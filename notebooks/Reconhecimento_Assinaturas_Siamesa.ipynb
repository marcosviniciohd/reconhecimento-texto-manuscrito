{
 "cells": [
  {
   "cell_type": "markdown",
   "id": "984572e6",
   "metadata": {},
   "source": [
    "# Reconhecimento de Assinaturas Manuscritas com Rede Neural Siamesa\n",
    "\n",
    "Este notebook apresenta o passo a passo do projeto de verificação de assinaturas manuscritas utilizando uma Rede Neural Siamesa. O objetivo é comparar duas imagens de assinaturas e determinar se pertencem à mesma pessoa, utilizando técnicas modernas de Deep Learning.\n",
    "\n",
    "---\n",
    "\n",
    "## 1. Importação das Bibliotecas Necessárias"
   ]
  },
  {
   "cell_type": "code",
   "execution_count": 1,
   "id": "f4e61706",
   "metadata": {},
   "outputs": [],
   "source": [
    "# Importação das bibliotecas essenciais\n",
    "import numpy as np\n",
    "import matplotlib.pyplot as plt\n",
    "import cv2\n",
    "import tensorflow as tf\n",
    "from tensorflow.keras import layers, Model, Input\n",
    "from sklearn.model_selection import train_test_split\n",
    "from sklearn.metrics import accuracy_score, precision_score, recall_score, f1_score, confusion_matrix\n",
    "import os"
   ]
  },
  {
   "cell_type": "markdown",
   "id": "8a93e465",
   "metadata": {},
   "source": [
    "## 2. Carregamento e Pré-processamento das Imagens de Assinaturas\n",
    "\n",
    "Nesta etapa, vamos carregar as imagens do dataset e aplicar o pré-processamento necessário: conversão para escala de cinza, binarização, redimensionamento e normalização."
   ]
  },
  {
   "cell_type": "code",
   "execution_count": 2,
   "id": "3d935b18",
   "metadata": {},
   "outputs": [],
   "source": [
    "# Funções de pré-processamento de imagens\n",
    "def load_image(path, grayscale=True):\n",
    "    if grayscale:\n",
    "        img = cv2.imread(path, cv2.IMREAD_GRAYSCALE)\n",
    "    else:\n",
    "        img = cv2.imread(path)\n",
    "    if img is None:\n",
    "        raise FileNotFoundError(f\"Imagem não encontrada: {path}\")\n",
    "    return img\n",
    "\n",
    "def binarize_image(img, threshold=127):\n",
    "    _, binary = cv2.threshold(img, threshold, 255, cv2.THRESH_BINARY_INV)\n",
    "    return binary\n",
    "\n",
    "def resize_image(img, size=(155, 220)):\n",
    "    return cv2.resize(img, size)\n",
    "\n",
    "def normalize_image(img):\n",
    "    return img.astype('float32') / 255.0\n",
    "\n",
    "def preprocess_image(path):\n",
    "    img = load_image(path)\n",
    "    img = binarize_image(img)\n",
    "    img = resize_image(img)\n",
    "    img = normalize_image(img)\n",
    "    return img"
   ]
  },
  {
   "cell_type": "markdown",
   "id": "00468c8e",
   "metadata": {},
   "source": [
    "## 3. Criação de Pares de Imagens para Treinamento\n",
    "\n",
    "Aqui, criamos pares de imagens genuína/genuína e genuína/falsa, preparando os dados para o treinamento da rede siamesa."
   ]
  },
  {
   "cell_type": "code",
   "execution_count": 3,
   "id": "e0f60b92",
   "metadata": {},
   "outputs": [],
   "source": [
    "# Função para criar pares de imagens (genuína/genuína e genuína/falsa)\n",
    "def create_pairs(images, labels):\n",
    "    pairs_a, pairs_b, pair_labels = [], [], []\n",
    "    num_classes = len(np.unique(labels))\n",
    "    label_to_indices = {label: np.where(labels == label)[0] for label in np.unique(labels)}\n",
    "    for idx, img_a in enumerate(images):\n",
    "        label = labels[idx]\n",
    "        # Par positivo (mesmo autor)\n",
    "        pos_idx = idx\n",
    "        while pos_idx == idx:\n",
    "            pos_idx = np.random.choice(label_to_indices[label])\n",
    "        img_b = images[pos_idx]\n",
    "        pairs_a.append(img_a)\n",
    "        pairs_b.append(img_b)\n",
    "        pair_labels.append(1)\n",
    "        # Par negativo (autores diferentes)\n",
    "        neg_label = np.random.choice(list(set(labels) - set([label])))\n",
    "        neg_idx = np.random.choice(label_to_indices[neg_label])\n",
    "        img_b = images[neg_idx]\n",
    "        pairs_a.append(img_a)\n",
    "        pairs_b.append(img_b)\n",
    "        pair_labels.append(0)\n",
    "    return np.array(pairs_a), np.array(pairs_b), np.array(pair_labels)"
   ]
  },
  {
   "cell_type": "markdown",
   "id": "a64567f1",
   "metadata": {},
   "source": [
    "## 4. Definição da Arquitetura da Rede Neural Siamesa\n",
    "\n",
    "Agora, definimos a arquitetura da rede siamesa baseada em CNN utilizando TensorFlow/Keras."
   ]
  },
  {
   "cell_type": "code",
   "execution_count": 4,
   "id": "d0cf3b8d",
   "metadata": {},
   "outputs": [],
   "source": [
    "# Definição da arquitetura da Rede Neural Siamesa\n",
    "\n",
    "def build_base_network(input_shape):\n",
    "    inputs = Input(shape=input_shape)\n",
    "    x = layers.Conv2D(32, (3, 3), activation='relu', padding='same')(inputs)\n",
    "    x = layers.MaxPooling2D((2, 2))(x)\n",
    "    x = layers.Conv2D(64, (3, 3), activation='relu', padding='same')(x)\n",
    "    x = layers.MaxPooling2D((2, 2))(x)\n",
    "    x = layers.Conv2D(128, (3, 3), activation='relu', padding='same')(x)\n",
    "    x = layers.MaxPooling2D((2, 2))(x)\n",
    "    x = layers.Flatten()(x)\n",
    "    x = layers.Dense(128, activation='relu')(x)\n",
    "    x = layers.Dropout(0.5)(x)\n",
    "    outputs = layers.Dense(64, activation='relu')(x)\n",
    "    return Model(inputs, outputs, name=\"base_network\")\n",
    "\n",
    "def euclidean_distance(vectors):\n",
    "    x, y = vectors\n",
    "    sum_square = tf.reduce_sum(tf.square(x - y), axis=1, keepdims=True)\n",
    "    return tf.sqrt(tf.maximum(sum_square, tf.keras.backend.epsilon()))\n",
    "\n",
    "def build_siamese_network(input_shape):\n",
    "    base_network = build_base_network(input_shape)\n",
    "    input_a = Input(shape=input_shape)\n",
    "    input_b = Input(shape=input_shape)\n",
    "    processed_a = base_network(input_a)\n",
    "    processed_b = base_network(input_b)\n",
    "    distance = layers.Lambda(euclidean_distance)([processed_a, processed_b])\n",
    "    model = Model([input_a, input_b], distance, name=\"siamese_network\")\n",
    "    return model"
   ]
  },
  {
   "cell_type": "markdown",
   "id": "ca63015a",
   "metadata": {},
   "source": [
    "## 5. Implementação da Função de Custo Contrastive Loss\n",
    "\n",
    "A função de custo Contrastive Loss é utilizada para treinar a rede siamesa, aproximando pares genuínos e afastando pares falsos."
   ]
  },
  {
   "cell_type": "code",
   "execution_count": 5,
   "id": "b968a113",
   "metadata": {},
   "outputs": [],
   "source": [
    "# Função de custo Contrastive Loss\n",
    "def contrastive_loss(y_true, y_pred, margin=1.0):\n",
    "    y_true = tf.cast(y_true, y_pred.dtype)\n",
    "    square_pred = tf.square(y_pred)\n",
    "    margin_square = tf.square(tf.maximum(margin - y_pred, 0))\n",
    "    return tf.reduce_mean(y_true * square_pred + (1 - y_true) * margin_square)"
   ]
  },
  {
   "cell_type": "markdown",
   "id": "59e9198a",
   "metadata": {},
   "source": [
    "## Exemplo prático: Carregamento e visualização de imagens reais de assinaturas\n",
    "\n",
    "A seguir, vamos carregar duas imagens reais do dataset, exibir as originais e mostrar o resultado do pré-processamento."
   ]
  },
  {
   "cell_type": "code",
   "execution_count": 13,
   "id": "46aec514",
   "metadata": {},
   "outputs": [
    {
     "data": {
      "image/png": "[encoded data removed]",
      "text/plain": [
       "<Figure size 800x600 with 4 Axes>"
      ]
     },
     "metadata": {},
     "output_type": "display_data"
    }
   ],
   "source": [
    "# Substitua pelos caminhos reais das imagens do seu dataset\n",
    "data_dir = '../data'\n",
    "img_path1 = os.path.join(data_dir, 'autor1', 'assinatura1.png')\n",
    "img_path2 = os.path.join(data_dir, 'autor1', 'assinatura2.png')\n",
    "\n",
    "# Carregar imagens originais\n",
    "display_img1 = cv2.imread(img_path1)\n",
    "display_img2 = cv2.imread(img_path2)\n",
    "\n",
    "# Pré-processar imagens\n",
    "proc_img1 = preprocess_image(img_path1)\n",
    "proc_img2 = preprocess_image(img_path2)\n",
    "\n",
    "# Exibir imagens originais e pré-processadas\n",
    "fig, axs = plt.subplots(2, 2, figsize=(8, 6))\n",
    "axs[0, 0].imshow(cv2.cvtColor(display_img1, cv2.COLOR_BGR2RGB))\n",
    "axs[0, 0].set_title('Assinatura 1 - Original')\n",
    "axs[0, 0].axis('off')\n",
    "axs[0, 1].imshow(cv2.cvtColor(display_img2, cv2.COLOR_BGR2RGB))\n",
    "axs[0, 1].set_title('Assinatura 2 - Original')\n",
    "axs[0, 1].axis('off')\n",
    "axs[1, 0].imshow(proc_img1, cmap='gray')\n",
    "axs[1, 0].set_title('Assinatura 1 - Pré-processada')\n",
    "axs[1, 0].axis('off')\n",
    "axs[1, 1].imshow(proc_img2, cmap='gray')\n",
    "axs[1, 1].set_title('Assinatura 2 - Pré-processada')\n",
    "axs[1, 1].axis('off')\n",
    "plt.tight_layout()\n",
    "plt.show()"
   ]
  },
  {
   "cell_type": "markdown",
   "id": "421fdb7d",
   "metadata": {},
   "source": [
    "## Exemplo prático: Comparação real de assinaturas usando o modelo treinado\n",
    "\n",
    "Agora, vamos comparar duas assinaturas reais utilizando o modelo siamesa treinado e exibir a distância calculada e o resultado da verificação."
   ]
  },
  {
   "cell_type": "code",
   "execution_count": 24,
   "id": "54f9637b",
   "metadata": {},
   "outputs": [
    {
     "name": "stdout",
     "output_type": "stream",
     "text": [
      "Shape img1: (1, 155, 220, 1)\n",
      "Shape img2: (1, 155, 220, 1)\n",
      "\u001b[1m1/1\u001b[0m \u001b[32m━━━━━━━━━━━━━━━━━━━━\u001b[0m\u001b[37m\u001b[0m \u001b[1m0s\u001b[0m 321ms/step\n",
      "Distância calculada: 0.0882\n",
      "Resultado: ASSINATURAS COMPATÍVEIS (provavelmente da mesma pessoa)\n",
      "\u001b[1m1/1\u001b[0m \u001b[32m━━━━━━━━━━━━━━━━━━━━\u001b[0m\u001b[37m\u001b[0m \u001b[1m0s\u001b[0m 321ms/step\n",
      "Distância calculada: 0.0882\n",
      "Resultado: ASSINATURAS COMPATÍVEIS (provavelmente da mesma pessoa)\n"
     ]
    }
   ],
   "source": [
    "# Substitua pelos caminhos reais das imagens do seu dataset\n",
    "data_dir = '../data'\n",
    "img_path1 = os.path.join(data_dir, 'autor1', 'assinatura1.png')\n",
    "img_path2 = os.path.join(data_dir, 'autor1', 'assinatura2.png')\n",
    "\n",
    "# Definir a função customizada usada na camada Lambda\n",
    "def euclidean_distance(vectors):\n",
    "    x, y = vectors\n",
    "    sum_square = tf.reduce_sum(tf.square(x - y), axis=1, keepdims=True)\n",
    "    return tf.sqrt(tf.maximum(sum_square, tf.keras.backend.epsilon()))\n",
    "\n",
    "# Carregar modelo treinado (informando a função customizada)\n",
    "model = tf.keras.models.load_model('../siamese_signature_model.h5', compile=False, custom_objects={'euclidean_distance': euclidean_distance})\n",
    "\n",
    "# Pré-processar imagens para o modelo\n",
    "img1 = preprocess_image(img_path1)\n",
    "img2 = preprocess_image(img_path2)\n",
    "# Corrigir shape: garantir (1, 155, 220, 1)\n",
    "if img1.ndim == 2:\n",
    "    img1 = np.expand_dims(img1, axis=-1)\n",
    "if img2.ndim == 2:\n",
    "    img2 = np.expand_dims(img2, axis=-1)\n",
    "if img1.shape != (155, 220, 1):\n",
    "    img1 = cv2.resize(img1, (220, 155))\n",
    "    img1 = np.expand_dims(img1, axis=-1)\n",
    "if img2.shape != (155, 220, 1):\n",
    "    img2 = cv2.resize(img2, (220, 155))\n",
    "    img2 = np.expand_dims(img2, axis=-1)\n",
    "img1 = np.expand_dims(img1, axis=0)\n",
    "img2 = np.expand_dims(img2, axis=0)\n",
    "print('Shape img1:', img1.shape)\n",
    "print('Shape img2:', img2.shape)\n",
    "\n",
    "# Prever distância\n",
    "dist = model.predict([img1, img2])[0][0]\n",
    "print(f'Distância calculada: {dist:.4f}')\n",
    "threshold = 0.5\n",
    "if dist < threshold:\n",
    "    print('Resultado: ASSINATURAS COMPATÍVEIS (provavelmente da mesma pessoa)')\n",
    "else:\n",
    "    print('Resultado: ASSINATURAS DIFERENTES (provavelmente de pessoas diferentes)')"
   ]
  },
  {
   "cell_type": "markdown",
   "id": "28887ab7",
   "metadata": {},
   "source": [
    "## Avaliação quantitativa: métricas e matriz de confusão\n",
    "\n",
    "Vamos avaliar o desempenho do modelo utilizando métricas como acurácia, precisão, recall, F1-score e matriz de confusão para um conjunto de pares de teste."
   ]
  },
  {
   "cell_type": "code",
   "execution_count": 29,
   "id": "250e81cf",
   "metadata": {},
   "outputs": [
    {
     "name": "stdout",
     "output_type": "stream",
     "text": [
      "Total de pares de teste: 6\n",
      "X_a shape: (6, 155, 220, 1)\n",
      "X_b shape: (6, 155, 220, 1)\n",
      "\u001b[1m1/1\u001b[0m \u001b[32m━━━━━━━━━━━━━━━━━━━━\u001b[0m\u001b[37m\u001b[0m \u001b[1m0s\u001b[0m 206ms/step\n",
      "\u001b[1m1/1\u001b[0m \u001b[32m━━━━━━━━━━━━━━━━━━━━\u001b[0m\u001b[37m\u001b[0m \u001b[1m0s\u001b[0m 206ms/step\n",
      "Acurácia: 0.5000\n",
      "Precisão: 0.5000\n",
      "Recall: 1.0000\n",
      "F1-Score: 0.6667\n",
      "Matriz de Confusão:\n",
      "[[0 3]\n",
      " [0 3]]\n",
      "Acurácia: 0.5000\n",
      "Precisão: 0.5000\n",
      "Recall: 1.0000\n",
      "F1-Score: 0.6667\n",
      "Matriz de Confusão:\n",
      "[[0 3]\n",
      " [0 3]]\n"
     ]
    },
    {
     "data": {
      "image/png": "[encoded data removed]",
      "text/plain": [
       "<Figure size 640x480 with 2 Axes>"
      ]
     },
     "metadata": {},
     "output_type": "display_data"
    }
   ],
   "source": [
    "# Substitua pelo diretório de teste real\n",
    "test_dir = '../data'  # Ajuste conforme necessário\n",
    "\n",
    "def load_test_pairs(test_dir):\n",
    "    images = []\n",
    "    labels = []\n",
    "    authors = os.listdir(test_dir)\n",
    "    for author in authors:\n",
    "        author_dir = os.path.join(test_dir, author)\n",
    "        if os.path.isdir(author_dir):\n",
    "            author_imgs = [os.path.join(author_dir, f) for f in os.listdir(author_dir)\n",
    "                           if f.lower().endswith(('.png', '.jpg', '.jpeg', '.bmp'))]\n",
    "            for i in range(len(author_imgs)):\n",
    "                for j in range(i+1, len(author_imgs)):\n",
    "                    img_a = preprocess_image(author_imgs[i])\n",
    "                    img_b = preprocess_image(author_imgs[j])\n",
    "                    if img_a.ndim == 2:\n",
    "                        img_a = np.expand_dims(img_a, axis=-1)\n",
    "                    if img_b.ndim == 2:\n",
    "                        img_b = np.expand_dims(img_b, axis=-1)\n",
    "                    images.append((img_a, img_b))\n",
    "                    labels.append(1)  # mesmo autor\n",
    "    # Pares negativos (autores diferentes)\n",
    "    for i in range(len(authors)):\n",
    "        for j in range(i+1, len(authors)):\n",
    "            author_a_imgs = [os.path.join(test_dir, authors[i], f) for f in os.listdir(os.path.join(test_dir, authors[i]))\n",
    "                             if f.lower().endswith(('.png', '.jpg', '.jpeg', '.bmp'))]\n",
    "            author_b_imgs = [os.path.join(test_dir, authors[j], f) for f in os.listdir(os.path.join(test_dir, authors[j]))\n",
    "                             if f.lower().endswith(('.png', '.jpg', '.jpeg', '.bmp'))]\n",
    "            if author_a_imgs and author_b_imgs:\n",
    "                img_a = preprocess_image(author_a_imgs[0])\n",
    "                img_b = preprocess_image(author_b_imgs[0])\n",
    "                if img_a.ndim == 2:\n",
    "                    img_a = np.expand_dims(img_a, axis=-1)\n",
    "                if img_b.ndim == 2:\n",
    "                    img_b = np.expand_dims(img_b, axis=-1)\n",
    "                images.append((img_a, img_b))\n",
    "                labels.append(0)  # autores diferentes\n",
    "    X_a = np.array([pair[0] for pair in images])\n",
    "    X_b = np.array([pair[1] for pair in images])\n",
    "    y = np.array(labels)\n",
    "    return X_a, X_b, y\n",
    "\n",
    "# Carregar pares de teste\n",
    "X_a, X_b, y_true = load_test_pairs(test_dir)\n",
    "print(f\"Total de pares de teste: {len(y_true)}\")\n",
    "\n",
    "# Corrigir shape: garantir (n, 155, 220, 1)\n",
    "if X_a.ndim == 3:\n",
    "    X_a = np.expand_dims(X_a, axis=-1)\n",
    "if X_b.ndim == 3:\n",
    "    X_b = np.expand_dims(X_b, axis=-1)\n",
    "if X_a.shape[1:3] != (155, 220):\n",
    "    X_a = np.array([cv2.resize(img, (220, 155)) for img in X_a])\n",
    "    X_a = np.expand_dims(X_a, axis=-1)\n",
    "if X_b.shape[1:3] != (155, 220):\n",
    "    X_b = np.array([cv2.resize(img, (220, 155)) for img in X_b])\n",
    "    X_b = np.expand_dims(X_b, axis=-1)\n",
    "print('X_a shape:', X_a.shape)\n",
    "print('X_b shape:', X_b.shape)\n",
    "\n",
    "# Carregar modelo treinado\n",
    "model = tf.keras.models.load_model('../siamese_signature_model.h5', compile=False, custom_objects={'euclidean_distance': euclidean_distance})\n",
    "\n",
    "# Prever distâncias\n",
    "y_pred_dist = model.predict([X_a, X_b])\n",
    "threshold = 0.5\n",
    "y_pred = (y_pred_dist < threshold).astype(int).flatten()\n",
    "\n",
    "# Avaliar métricas\n",
    "acc = accuracy_score(y_true, y_pred)\n",
    "prec = precision_score(y_true, y_pred)\n",
    "rec = recall_score(y_true, y_pred)\n",
    "f1 = f1_score(y_true, y_pred)\n",
    "cm = confusion_matrix(y_true, y_pred)\n",
    "print(f\"Acurácia: {acc:.4f}\")\n",
    "print(f\"Precisão: {prec:.4f}\")\n",
    "print(f\"Recall: {rec:.4f}\")\n",
    "print(f\"F1-Score: {f1:.4f}\")\n",
    "print(\"Matriz de Confusão:\")\n",
    "print(cm)\n",
    "\n",
    "# Visualizar matriz de confusão\n",
    "def plot_confusion_matrix(cm, classes):\n",
    "    plt.imshow(cm, interpolation='nearest', cmap=plt.cm.Blues)\n",
    "    plt.title('Matriz de Confusão')\n",
    "    plt.colorbar()\n",
    "    tick_marks = np.arange(len(classes))\n",
    "    plt.xticks(tick_marks, classes)\n",
    "    plt.yticks(tick_marks, classes)\n",
    "    plt.ylabel('Verdadeiro')\n",
    "    plt.xlabel('Previsto')\n",
    "    for i in range(cm.shape[0]):\n",
    "        for j in range(cm.shape[1]):\n",
    "            plt.text(j, i, format(cm[i, j], 'd'), ha='center', va='center', color='red')\n",
    "    plt.tight_layout()\n",
    "    plt.show()\n",
    "\n",
    "plot_confusion_matrix(cm, classes=['Diferente', 'Compatível'])"
   ]
  },
  {
   "cell_type": "code",
   "execution_count": 31,
   "id": "04dfc343",
   "metadata": {},
   "outputs": [
    {
     "data": {
      "image/png": "[encoded data removed]",
      "text/plain": [
       "<Figure size 1000x300 with 3 Axes>"
      ]
     },
     "metadata": {},
     "output_type": "display_data"
    },
    {
     "name": "stdout",
     "output_type": "stream",
     "text": [
      "\u001b[1m1/1\u001b[0m \u001b[32m━━━━━━━━━━━━━━━━━━━━\u001b[0m\u001b[37m\u001b[0m \u001b[1m0s\u001b[0m 139ms/step\n",
      "\u001b[1m1/1\u001b[0m \u001b[32m━━━━━━━━━━━━━━━━━━━━\u001b[0m\u001b[37m\u001b[0m \u001b[1m0s\u001b[0m 139ms/step\n",
      "\u001b[1m1/1\u001b[0m \u001b[32m━━━━━━━━━━━━━━━━━━━━\u001b[0m\u001b[37m\u001b[0m \u001b[1m0s\u001b[0m 45ms/step\n",
      "Distância (genuínas): 0.0027\n",
      "Distância (genuína x falsa): 0.0019\n",
      "Resultado genuínas: Compatíveis\n",
      "Resultado genuína x falsa: Compatíveis\n",
      "\u001b[1m1/1\u001b[0m \u001b[32m━━━━━━━━━━━━━━━━━━━━\u001b[0m\u001b[37m\u001b[0m \u001b[1m0s\u001b[0m 45ms/step\n",
      "Distância (genuínas): 0.0027\n",
      "Distância (genuína x falsa): 0.0019\n",
      "Resultado genuínas: Compatíveis\n",
      "Resultado genuína x falsa: Compatíveis\n"
     ]
    }
   ],
   "source": [
    "# Exemplo sintético de pares para teste do modelo\n",
    "# Vamos criar imagens artificiais (arrays) para simular assinaturas\n",
    "\n",
    "def create_synthetic_signature(shape=(155, 220), seed=None):\n",
    "    np.random.seed(seed)\n",
    "    # Imagem base: fundo branco\n",
    "    img = np.ones(shape, dtype=np.float32)\n",
    "    # Desenhar uma linha preta simulando uma assinatura\n",
    "    rr = np.linspace(20, shape[0]-20, num=shape[1]).astype(int)\n",
    "    cc = np.linspace(10, shape[1]-10, num=shape[1]).astype(int)\n",
    "    for i in range(len(rr)):\n",
    "        img[rr[i] + np.random.randint(-2, 2), cc[i]] = 0.0\n",
    "    return img\n",
    "\n",
    "# Criar duas assinaturas \"genuínas\" (mesmo padrão)\n",
    "sig1 = create_synthetic_signature(seed=42)\n",
    "sig2 = create_synthetic_signature(seed=43)\n",
    "# Criar uma assinatura \"falsa\" (padrão diferente)\n",
    "sig3 = create_synthetic_signature(seed=99)\n",
    "\n",
    "# Visualizar as imagens\n",
    "fig, axs = plt.subplots(1, 3, figsize=(10, 3))\n",
    "axs[0].imshow(sig1, cmap='gray')\n",
    "axs[0].set_title('Assinatura 1 (genuína)')\n",
    "axs[1].imshow(sig2, cmap='gray')\n",
    "axs[1].set_title('Assinatura 2 (genuína)')\n",
    "axs[2].imshow(sig3, cmap='gray')\n",
    "axs[2].set_title('Assinatura 3 (falsa)')\n",
    "for ax in axs:\n",
    "    ax.axis('off')\n",
    "plt.tight_layout()\n",
    "plt.show()\n",
    "\n",
    "# Preparar para o modelo (adicionar canal e batch)\n",
    "sig1 = np.expand_dims(sig1, axis=(0, -1))\n",
    "sig2 = np.expand_dims(sig2, axis=(0, -1))\n",
    "sig3 = np.expand_dims(sig3, axis=(0, -1))\n",
    "\n",
    "# Carregar modelo treinado\n",
    "model = tf.keras.models.load_model('../siamese_signature_model.h5', compile=False, custom_objects={'euclidean_distance': euclidean_distance})\n",
    "\n",
    "# Comparar assinaturas genuínas\n",
    "dist_genuinas = model.predict([sig1, sig2])[0][0]\n",
    "# Comparar assinatura genuína com falsa\n",
    "dist_falsa = model.predict([sig1, sig3])[0][0]\n",
    "\n",
    "print(f'Distância (genuínas): {dist_genuinas:.4f}')\n",
    "print(f'Distância (genuína x falsa): {dist_falsa:.4f}')\n",
    "\n",
    "threshold = 0.5\n",
    "print('Resultado genuínas:', 'Compatíveis' if dist_genuinas < threshold else 'Diferentes')\n",
    "print('Resultado genuína x falsa:', 'Compatíveis' if dist_falsa < threshold else 'Diferentes')"
   ]
  }
 ],
 "metadata": {
  "kernelspec": {
   "display_name": ".venv",
   "language": "python",
   "name": "python3"
  },
  "language_info": {
   "codemirror_mode": {
    "name": "ipython",
    "version": 3
   },
   "file_extension": ".py",
   "mimetype": "text/x-python",
   "name": "python",
   "nbconvert_exporter": "python",
   "pygments_lexer": "ipython3",
   "version": "3.10.0"
  }
 },
 "nbformat": 4,
 "nbformat_minor": 5
}
